{
 "cells": [
  {
   "cell_type": "code",
   "execution_count": 1,
   "metadata": {},
   "outputs": [],
   "source": [
    "import numpy as np"
   ]
  },
  {
   "cell_type": "markdown",
   "metadata": {},
   "source": [
    "1. Crea un array de tres 3D con elementos entre el 0 y 1 de forma (2, 3, 5) cuyos valores solo tengan 1 decimal."
   ]
  },
  {
   "cell_type": "code",
   "execution_count": 12,
   "metadata": {},
   "outputs": [
    {
     "name": "stdout",
     "output_type": "stream",
     "text": [
      "[[[0.4 0.5 0.6 0.5 0.5]\n",
      "  [0.9 0.4 0.7 0.9 0.2]\n",
      "  [0.1 0.5 0.7 0.2 0.6]]\n",
      "\n",
      " [[0.5 0.7 0.9 0.9 0. ]\n",
      "  [0.4 0.7 0.5 0.6 0.7]\n",
      "  [0.9 0.6 0.7 0.9 1. ]]]\n"
     ]
    }
   ],
   "source": [
    "array = np.random.rand(2, 3, 5)\n",
    "array_redondeado = np.round(array, 1)\n",
    "print(array_redondeado)"
   ]
  },
  {
   "cell_type": "markdown",
   "metadata": {},
   "source": [
    "2.Crea un array vacío con la misma forma y dimensiones que el array creado anteriormente. Vamos a reemplazar los valores de la matriz vacía que nos acabamos de crear pero basándonos en los valores del primer array bajo las siguientes condiciones:\n",
    "\n",
    "Si el valor del array es igual que la media, se reemplaza por \"A\".\n",
    "\n",
    "Si el valor del array es mayor que la media, se reemplaza por \"B\".\n",
    "\n",
    "Si el valor del array es menor que la media, se reemplaza por \"C\".\n",
    "\n",
    "Si el valor es igual que el máximo, se reemplaza por \"D\".\n",
    "\n",
    "Si el valor es igual que el mínimo, se reemplaza por \"E\"."
   ]
  },
  {
   "cell_type": "code",
   "execution_count": 15,
   "metadata": {},
   "outputs": [
    {
     "name": "stdout",
     "output_type": "stream",
     "text": [
      "[[[0.58664472 0.3420398  0.0404798  0.04913489 0.95463838]\n",
      "  [0.79169422 0.11149737 0.58871898 0.58880793 0.54263841]\n",
      "  [0.40994194 0.24144732 0.73690062 0.38687455 0.82112457]]\n",
      "\n",
      " [[0.9925468  0.78944936 0.59046757 0.83697843 0.42633012]\n",
      "  [0.52862109 0.49373017 0.72573867 0.32145919 0.84912503]\n",
      "  [0.46271142 0.15397307 0.14977854 0.74649313 0.97258499]]]\n"
     ]
    }
   ],
   "source": [
    "array_vacio = np.empty((2, 3, 5))\n",
    "print(array_vacio)"
   ]
  },
  {
   "cell_type": "code",
   "execution_count": 19,
   "metadata": {},
   "outputs": [
    {
     "name": "stdout",
     "output_type": "stream",
     "text": [
      "0.5410857029217752\n"
     ]
    }
   ],
   "source": [
    "media = np.mean(array_vacio)\n",
    "print(media)"
   ]
  },
  {
   "cell_type": "code",
   "execution_count": 18,
   "metadata": {},
   "outputs": [
    {
     "name": "stdout",
     "output_type": "stream",
     "text": [
      "[[['0.5866447228357766' '0.34203979878704793' '0.040479796185345696'\n",
      "   '0.049134894641937876' '0.9546383838604651']\n",
      "  ['0.7916942220822898' '0.11149736632738172' '0.5887189819050297'\n",
      "   '0.5888079265422939' '0.5426384072026738']\n",
      "  ['0.40994193827129566' '0.241447320519094' '0.7369006178541654'\n",
      "   '0.386874546255785' '0.8211245719200522']]\n",
      "\n",
      " [['0.9925467979535073' '0.7894493628999308' '0.5904675737554962'\n",
      "   '0.8369784309501958' '0.42633011997409376']\n",
      "  ['0.5286210905193196' '0.49373016773079237' '0.7257386702006879'\n",
      "   '0.32145918883740654' '0.8491250329332001']\n",
      "  ['0.46271142218315564' '0.15397307175703445' '0.1497785429236238'\n",
      "   '0.7464931329114715' '0.9725849869327028']]]\n"
     ]
    }
   ],
   "source": [
    "array1 = np.where(array_vacio == media, 'A', array_vacio)\n",
    "print(array1)"
   ]
  },
  {
   "cell_type": "code",
   "execution_count": 20,
   "metadata": {},
   "outputs": [
    {
     "name": "stdout",
     "output_type": "stream",
     "text": [
      "[[['B' '0.34203979878704793' '0.040479796185345696'\n",
      "   '0.049134894641937876' 'B']\n",
      "  ['B' '0.11149736632738172' 'B' 'B' 'B']\n",
      "  ['0.40994193827129566' '0.241447320519094' 'B' '0.386874546255785' 'B']]\n",
      "\n",
      " [['B' 'B' 'B' 'B' '0.42633011997409376']\n",
      "  ['0.5286210905193196' '0.49373016773079237' 'B' '0.32145918883740654'\n",
      "   'B']\n",
      "  ['0.46271142218315564' '0.15397307175703445' '0.1497785429236238' 'B'\n",
      "   'B']]]\n"
     ]
    }
   ],
   "source": [
    "array2 = np.where(array_vacio > media, 'B', array_vacio)\n",
    "print(array2)"
   ]
  },
  {
   "cell_type": "code",
   "execution_count": 21,
   "metadata": {},
   "outputs": [
    {
     "name": "stdout",
     "output_type": "stream",
     "text": [
      "[[['0.5866447228357766' 'C' 'C' 'C' '0.9546383838604651']\n",
      "  ['0.7916942220822898' 'C' '0.5887189819050297' '0.5888079265422939'\n",
      "   '0.5426384072026738']\n",
      "  ['C' 'C' '0.7369006178541654' 'C' '0.8211245719200522']]\n",
      "\n",
      " [['0.9925467979535073' '0.7894493628999308' '0.5904675737554962'\n",
      "   '0.8369784309501958' 'C']\n",
      "  ['C' 'C' '0.7257386702006879' 'C' '0.8491250329332001']\n",
      "  ['C' 'C' 'C' '0.7464931329114715' '0.9725849869327028']]]\n"
     ]
    }
   ],
   "source": [
    "array3 = np.where(array_vacio < media, 'C', array_vacio)\n",
    "print(array3)"
   ]
  },
  {
   "cell_type": "code",
   "execution_count": 23,
   "metadata": {},
   "outputs": [
    {
     "name": "stdout",
     "output_type": "stream",
     "text": [
      "[[['0.5866447228357766' '0.34203979878704793' '0.040479796185345696'\n",
      "   '0.049134894641937876' '0.9546383838604651']\n",
      "  ['0.7916942220822898' '0.11149736632738172' '0.5887189819050297'\n",
      "   '0.5888079265422939' '0.5426384072026738']\n",
      "  ['0.40994193827129566' '0.241447320519094' '0.7369006178541654'\n",
      "   '0.386874546255785' '0.8211245719200522']]\n",
      "\n",
      " [['D' '0.7894493628999308' '0.5904675737554962' '0.8369784309501958'\n",
      "   '0.42633011997409376']\n",
      "  ['0.5286210905193196' '0.49373016773079237' '0.7257386702006879'\n",
      "   '0.32145918883740654' '0.8491250329332001']\n",
      "  ['0.46271142218315564' '0.15397307175703445' '0.1497785429236238'\n",
      "   '0.7464931329114715' '0.9725849869327028']]]\n"
     ]
    }
   ],
   "source": [
    "maximo = np.max(array_vacio)\n",
    "array4 = np.where(array_vacio == maximo, 'D', array_vacio)\n",
    "print(array4)"
   ]
  },
  {
   "cell_type": "code",
   "execution_count": 25,
   "metadata": {},
   "outputs": [
    {
     "name": "stdout",
     "output_type": "stream",
     "text": [
      "[[['0.5866447228357766' '0.34203979878704793' 'E' '0.049134894641937876'\n",
      "   '0.9546383838604651']\n",
      "  ['0.7916942220822898' '0.11149736632738172' '0.5887189819050297'\n",
      "   '0.5888079265422939' '0.5426384072026738']\n",
      "  ['0.40994193827129566' '0.241447320519094' '0.7369006178541654'\n",
      "   '0.386874546255785' '0.8211245719200522']]\n",
      "\n",
      " [['0.9925467979535073' '0.7894493628999308' '0.5904675737554962'\n",
      "   '0.8369784309501958' '0.42633011997409376']\n",
      "  ['0.5286210905193196' '0.49373016773079237' '0.7257386702006879'\n",
      "   '0.32145918883740654' '0.8491250329332001']\n",
      "  ['0.46271142218315564' '0.15397307175703445' '0.1497785429236238'\n",
      "   '0.7464931329114715' '0.9725849869327028']]]\n"
     ]
    }
   ],
   "source": [
    "minimo = np.min(array_vacio)\n",
    "array5 = np.where(array_vacio == minimo, 'E', array_vacio)\n",
    "print(array5)"
   ]
  },
  {
   "cell_type": "code",
   "execution_count": 55,
   "metadata": {},
   "outputs": [
    {
     "name": "stdout",
     "output_type": "stream",
     "text": [
      "[[['B' 'C' 'C' 'C' 'B']\n",
      "  ['B' 'C' 'B' 'B' 'B']\n",
      "  ['C' 'C' 'B' 'C' 'B']]\n",
      "\n",
      " [['B' 'B' 'B' 'B' 'C']\n",
      "  ['C' 'C' 'B' 'C' 'B']\n",
      "  ['C' 'C' 'C' 'B' 'B']]]\n"
     ]
    }
   ],
   "source": [
    "array_final = np.where(array_vacio == media, 'A', np.where(array_vacio > media, 'B', np.where(array_vacio < media, 'C',  np.where(array_vacio == maximo, 'D', np.where(array_vacio == minimo, 'E', array_vacio)))))\n",
    "print(array_final)"
   ]
  },
  {
   "cell_type": "markdown",
   "metadata": {},
   "source": [
    "BONUS\n",
    "1. Crea un array 3D de forma (2, 3, 5) y 30 elementos con números enteros entre 0 y 100 (ambos incluidos). Reemplaza los elementos en posiciones múltiplos de 3 por 0."
   ]
  },
  {
   "cell_type": "code",
   "execution_count": 56,
   "metadata": {},
   "outputs": [
    {
     "name": "stdout",
     "output_type": "stream",
     "text": [
      "[[[79 99  8 70 14]\n",
      "  [64 75 15 67 35]\n",
      "  [97 78 57 69 85]]\n",
      "\n",
      " [[80 15  3 77  0]\n",
      "  [31 53 93 67  9]\n",
      "  [62 33 94  0 26]]]\n"
     ]
    }
   ],
   "source": [
    "random = np.random.randint(0, 101, (2,3,5))\n",
    "print(random)"
   ]
  },
  {
   "cell_type": "code",
   "execution_count": 60,
   "metadata": {},
   "outputs": [
    {
     "data": {
      "text/plain": [
       "array([[[79, 70],\n",
       "        [64, 67],\n",
       "        [97, 69]],\n",
       "\n",
       "       [[80, 77],\n",
       "        [31, 67],\n",
       "        [62,  0]]])"
      ]
     },
     "execution_count": 60,
     "metadata": {},
     "output_type": "execute_result"
    }
   ],
   "source": [
    "random[ :, :, ::3]"
   ]
  },
  {
   "cell_type": "code",
   "execution_count": 61,
   "metadata": {},
   "outputs": [
    {
     "ename": "ValueError",
     "evalue": "operands could not be broadcast together with shapes (2,3,2) () (2,3,5) ",
     "output_type": "error",
     "traceback": [
      "\u001b[1;31m---------------------------------------------------------------------------\u001b[0m",
      "\u001b[1;31mValueError\u001b[0m                                Traceback (most recent call last)",
      "Cell \u001b[1;32mIn[61], line 1\u001b[0m\n\u001b[1;32m----> 1\u001b[0m r \u001b[38;5;241m=\u001b[39m np\u001b[38;5;241m.\u001b[39mwhere(random[ :, :, ::\u001b[38;5;241m3\u001b[39m], \u001b[38;5;241m0\u001b[39m, random)\n\u001b[0;32m      2\u001b[0m \u001b[38;5;28mprint\u001b[39m(r)\n",
      "\u001b[1;31mValueError\u001b[0m: operands could not be broadcast together with shapes (2,3,2) () (2,3,5) "
     ]
    }
   ],
   "source": [
    "r = np.where(random[ :, :, ::3], 0, random)\n",
    "print(r)\n"
   ]
  }
 ],
 "metadata": {
  "kernelspec": {
   "display_name": "base",
   "language": "python",
   "name": "python3"
  },
  "language_info": {
   "codemirror_mode": {
    "name": "ipython",
    "version": 3
   },
   "file_extension": ".py",
   "mimetype": "text/x-python",
   "name": "python",
   "nbconvert_exporter": "python",
   "pygments_lexer": "ipython3",
   "version": "3.12.7"
  }
 },
 "nbformat": 4,
 "nbformat_minor": 2
}
